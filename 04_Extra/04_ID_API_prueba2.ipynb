{
 "cells": [
  {
   "cell_type": "code",
   "execution_count": null,
   "metadata": {},
   "outputs": [],
   "source": [
    "import os\n",
    "import shutil\n",
    "import pandas as pd\n",
    "\n",
    "# Directorio de imágenes preprocesadas\n",
    "IMAGE_DIR = \"../04_Extra/ID/IMAGES_PREPROC\"\n",
    "\n",
    "# Cargar dataset con información de los sets y sus años de retiro\n",
    "df_lego = pd.read_csv(\"../04_Extra/ID/df_lego_final_retirados.csv\")\n",
    "\n",
    "# Filtrar sets con YearExit > 2004\n",
    "sets_validos = df_lego[df_lego[\"YearExit\"] <= 2004][\"set_id\"].astype(str).tolist()\n",
    "\n",
    "# 🔹 1️⃣ Eliminar carpetas con una sola imagen\n",
    "for set_folder in os.listdir(IMAGE_DIR):\n",
    "    set_path = os.path.join(IMAGE_DIR, set_folder)\n",
    "    \n",
    "    if os.path.isdir(set_path):\n",
    "        num_images = len(os.listdir(set_path))  # Contar imágenes en la carpeta\n",
    "        \n",
    "        # Si solo hay 1 imagen o el set no está en la lista de sets válidos, eliminar carpeta\n",
    "        if num_images <= 1 or set_folder not in sets_validos:\n",
    "            shutil.rmtree(set_path)  # Eliminar carpeta y contenido\n",
    "            print(f\"❌ Eliminado: {set_folder} (Imágenes: {num_images}, YearExit > 2004)\")\n"
   ]
  }
 ],
 "metadata": {
  "language_info": {
   "name": "python"
  }
 },
 "nbformat": 4,
 "nbformat_minor": 2
}
