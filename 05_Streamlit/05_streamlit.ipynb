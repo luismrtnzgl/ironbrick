{
 "cells": [
  {
   "cell_type": "code",
   "execution_count": null,
   "metadata": {},
   "outputs": [],
   "source": [
    "import streamlit as st\n",
    "import pickle\n",
    "import pandas as pd\n",
    "\n",
    "# Cargar el modelo\n",
    "with open(\"../03_EDA/stacking_model.pkl\", \"rb\") as model_file:\n",
    "    model = pickle.load(model_file)\n",
    "\n",
    "# Cargar los LabelEncoders y la lista de características\n",
    "with open(\"../03_EDA/preprocessing.pkl\", \"rb\") as pre_file:\n",
    "    preprocessing = pickle.load(pre_file)\n",
    "\n",
    "encoder_exclusivity = preprocessing[\"encoder_exclusivity\"]\n",
    "encoder_sizecategory = preprocessing[\"encoder_sizecategory\"]\n",
    "features = preprocessing[\"features\"]\n",
    "\n",
    "# Cargar el ranking de inversión\n",
    "df_ranking = pd.read_csv(\"../03_EDA/ranking_lego_web.csv\")\n",
    "\n",
    "# Streamlit App\n",
    "st.title(\"Plataforma de Recomendación de LEGO 📊\")\n",
    "\n",
    "# Mostrar el ranking de inversión\n",
    "st.subheader(\"Ranking de Inversión LEGO\")\n",
    "st.dataframe(df_ranking)\n",
    "\n",
    "# Entrada del usuario para predecir inversión en un set nuevo\n",
    "st.subheader(\"Predicción para un Nuevo Set\")\n",
    "us_retail_price = st.number_input(\"Precio en USD\", min_value=1.0, max_value=1000.0)\n",
    "pieces = st.number_input(\"Número de Piezas\", min_value=1, max_value=10000)\n",
    "minifigs = st.number_input(\"Número de Minifigs\", min_value=0, max_value=50)\n",
    "years_since_exit = st.number_input(\"Años desde el retiro\", min_value=0, max_value=50)\n",
    "resale_demand = st.number_input(\"Demanda de reventa\", min_value=0.0, max_value=10000.0)\n",
    "annual_price_increase = st.number_input(\"Incremento Anual del Precio\", min_value=-100.0, max_value=1000.0)\n",
    "\n",
    "exclusivity = st.selectbox(\"Exclusividad\", encoder_exclusivity.classes_)\n",
    "size_category = st.selectbox(\"Tamaño del Set\", encoder_sizecategory.classes_)\n",
    "\n",
    "# Convertir categorías en valores numéricos\n",
    "exclusivity_encoded = encoder_exclusivity.transform([exclusivity])[0]\n",
    "size_category_encoded = encoder_sizecategory.transform([size_category])[0]\n",
    "\n",
    "# Crear el dataframe de entrada\n",
    "df_input = pd.DataFrame([[\n",
    "    us_retail_price, pieces, minifigs, years_since_exit, resale_demand, annual_price_increase,\n",
    "    exclusivity_encoded, size_category_encoded, us_retail_price / pieces, \n",
    "    us_retail_price / max(minifigs, 1), years_since_exit\n",
    "]], columns=features)\n",
    "\n",
    "# Predecir el Investment Score\n",
    "if st.button(\"Predecir Potencial de Inversión\"):\n",
    "    predicted_score = model.predict(df_input)[0]\n",
    "    st.success(f\"Predicted Investment Score: {predicted_score:.2f}\")\n"
   ]
  }
 ],
 "metadata": {
  "kernelspec": {
   "display_name": "Python 3",
   "language": "python",
   "name": "python3"
  },
  "language_info": {
   "codemirror_mode": {
    "name": "ipython",
    "version": 3
   },
   "file_extension": ".py",
   "mimetype": "text/x-python",
   "name": "python",
   "nbconvert_exporter": "python",
   "pygments_lexer": "ipython3",
   "version": "3.9.6"
  }
 },
 "nbformat": 4,
 "nbformat_minor": 2
}
